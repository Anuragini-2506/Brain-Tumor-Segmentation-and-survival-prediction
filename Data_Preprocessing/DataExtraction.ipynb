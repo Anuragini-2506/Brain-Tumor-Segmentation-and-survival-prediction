{
 "cells": [
  {
   "cell_type": "code",
   "execution_count": 1,
   "id": "b313cdc1",
   "metadata": {},
   "outputs": [],
   "source": [
    "import os\n",
    "import zipfile\n"
   ]
  },
  {
   "cell_type": "code",
   "execution_count": 2,
   "id": "65e6b498",
   "metadata": {},
   "outputs": [
    {
     "data": {
      "text/plain": [
       "'/workspace/anu_bts/8SEM_AKAV_BrainTumorSegmentation_final/Data_Preprocessing'"
      ]
     },
     "execution_count": 2,
     "metadata": {},
     "output_type": "execute_result"
    }
   ],
   "source": [
    "os.getcwd()"
   ]
  },
  {
   "cell_type": "code",
   "execution_count": 3,
   "id": "3ff188fe",
   "metadata": {},
   "outputs": [
    {
     "data": {
      "text/plain": [
       "['DataExtraction.ipynb', '.ipynb_checkpoints']"
      ]
     },
     "execution_count": 3,
     "metadata": {},
     "output_type": "execute_result"
    }
   ],
   "source": [
    "os.listdir('./')"
   ]
  },
  {
   "cell_type": "code",
   "execution_count": 4,
   "id": "6ca65d8a",
   "metadata": {},
   "outputs": [
    {
     "data": {
      "text/plain": [
       "['PartA_BrainTumorSegmentation',\n",
       " 'PartB_SurvivalPrediction',\n",
       " 'Data_Preprocessing',\n",
       " 'Dataset',\n",
       " 'System_Check_and_Package_Installation',\n",
       " '.ipynb_checkpoints']"
      ]
     },
     "execution_count": 4,
     "metadata": {},
     "output_type": "execute_result"
    }
   ],
   "source": [
    "os.listdir('../')"
   ]
  },
  {
   "cell_type": "code",
   "execution_count": 5,
   "id": "e8797a88",
   "metadata": {},
   "outputs": [
    {
     "data": {
      "text/plain": [
       "['archive.zip', '.ipynb_checkpoints']"
      ]
     },
     "execution_count": 5,
     "metadata": {},
     "output_type": "execute_result"
    }
   ],
   "source": [
    "os.listdir('../Dataset')"
   ]
  },
  {
   "cell_type": "code",
   "execution_count": 6,
   "id": "aaafefc2",
   "metadata": {},
   "outputs": [],
   "source": [
    "with zipfile.ZipFile(\"../Dataset/archive.zip\", 'r') as zip_ref:\n",
    "    zip_ref.extractall('../Dataset')"
   ]
  },
  {
   "cell_type": "code",
   "execution_count": 7,
   "id": "77608dd6",
   "metadata": {},
   "outputs": [
    {
     "data": {
      "text/plain": [
       "['archive.zip',\n",
       " 'BraTS2020_TrainingData',\n",
       " 'BraTS2020_ValidationData',\n",
       " '.ipynb_checkpoints']"
      ]
     },
     "execution_count": 7,
     "metadata": {},
     "output_type": "execute_result"
    }
   ],
   "source": [
    "os.listdir('../Dataset')"
   ]
  },
  {
   "cell_type": "code",
   "execution_count": 8,
   "id": "e60c9e19",
   "metadata": {},
   "outputs": [
    {
     "data": {
      "text/plain": [
       "['MICCAI_BraTS2020_TrainingData']"
      ]
     },
     "execution_count": 8,
     "metadata": {},
     "output_type": "execute_result"
    }
   ],
   "source": [
    "os.listdir('../Dataset/BraTS2020_TrainingData')"
   ]
  },
  {
   "cell_type": "code",
   "execution_count": 9,
   "id": "1f9a9fd7",
   "metadata": {},
   "outputs": [
    {
     "name": "stdout",
     "output_type": "stream",
     "text": [
      "371\n"
     ]
    }
   ],
   "source": [
    "print(len(os.listdir('../Dataset/BraTS2020_TrainingData/MICCAI_BraTS2020_TrainingData/')))"
   ]
  },
  {
   "cell_type": "code",
   "execution_count": null,
   "id": "22ff3f64",
   "metadata": {},
   "outputs": [],
   "source": []
  }
 ],
 "metadata": {
  "kernelspec": {
   "display_name": "Python 3",
   "language": "python",
   "name": "python3"
  },
  "language_info": {
   "codemirror_mode": {
    "name": "ipython",
    "version": 3
   },
   "file_extension": ".py",
   "mimetype": "text/x-python",
   "name": "python",
   "nbconvert_exporter": "python",
   "pygments_lexer": "ipython3",
   "version": "3.8.5"
  }
 },
 "nbformat": 4,
 "nbformat_minor": 5
}
