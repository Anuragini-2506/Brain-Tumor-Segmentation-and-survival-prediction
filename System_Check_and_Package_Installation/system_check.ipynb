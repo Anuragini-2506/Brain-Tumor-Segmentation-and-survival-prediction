{
 "cells": [
  {
   "cell_type": "code",
   "execution_count": 1,
   "id": "4669c56b",
   "metadata": {},
   "outputs": [
    {
     "data": {
      "text/plain": [
       "'2.4.0'"
      ]
     },
     "execution_count": 1,
     "metadata": {},
     "output_type": "execute_result"
    }
   ],
   "source": [
    "# Tensorflow version\n",
    "import tensorflow as tf\n",
    "tf.__version__"
   ]
  },
  {
   "cell_type": "code",
   "execution_count": 2,
   "id": "5d135108",
   "metadata": {},
   "outputs": [
    {
     "data": {
      "text/plain": [
       "'2.4.0'"
      ]
     },
     "execution_count": 2,
     "metadata": {},
     "output_type": "execute_result"
    }
   ],
   "source": [
    "# Keras version\n",
    "tf.keras.__version__"
   ]
  },
  {
   "cell_type": "code",
   "execution_count": 3,
   "id": "73a5a1e0",
   "metadata": {},
   "outputs": [
    {
     "data": {
      "text/plain": [
       "'1.19.4'"
      ]
     },
     "execution_count": 3,
     "metadata": {},
     "output_type": "execute_result"
    }
   ],
   "source": [
    "import numpy as np\n",
    "np.__version__"
   ]
  },
  {
   "cell_type": "code",
   "execution_count": 4,
   "id": "3da2115f",
   "metadata": {},
   "outputs": [
    {
     "name": "stdout",
     "output_type": "stream",
     "text": [
      "Package                          Version\n",
      "-------------------------------- ---------\n",
      "absl-py                          0.12.0\n",
      "argon2-cffi                      20.1.0\n",
      "astunparse                       1.6.3\n",
      "async-generator                  1.10\n",
      "attrs                            20.3.0\n",
      "backcall                         0.2.0\n",
      "bleach                           3.3.0\n",
      "cachetools                       4.2.2\n",
      "certifi                          2020.12.5\n",
      "cffi                             1.14.5\n",
      "chardet                          4.0.0\n",
      "click                            7.1.2\n",
      "cloudpickle                      1.6.0\n",
      "decorator                        5.0.7\n",
      "defusedxml                       0.7.1\n",
      "dill                             0.3.3\n",
      "entrypoints                      0.3\n",
      "Flask                            1.1.2\n",
      "flatbuffers                      1.12\n",
      "future                           0.18.2\n",
      "gast                             0.3.3\n",
      "google-auth                      1.30.0\n",
      "google-auth-oauthlib             0.4.4\n",
      "google-pasta                     0.2.0\n",
      "googleapis-common-protos         1.53.0\n",
      "graphsurgeon                     0.4.5\n",
      "grpcio                           1.32.0\n",
      "h5py                             2.10.0\n",
      "horovod                          0.21.3\n",
      "idna                             2.10\n",
      "ipykernel                        5.5.3\n",
      "ipython                          7.22.0\n",
      "ipython-genutils                 0.2.0\n",
      "itsdangerous                     1.1.0\n",
      "jedi                             0.18.0\n",
      "Jinja2                           2.11.3\n",
      "json5                            0.9.5\n",
      "jsonschema                       3.2.0\n",
      "jupyter-client                   6.1.12\n",
      "jupyter-core                     4.7.1\n",
      "jupyter-tensorboard              0.2.0\n",
      "jupyterlab                       2.3.1\n",
      "jupyterlab-pygments              0.1.2\n",
      "jupyterlab-server                1.2.0\n",
      "jupytext                         1.11.1\n",
      "Keras-Applications               1.0.8\n",
      "Keras-Preprocessing              1.1.2\n",
      "Markdown                         3.3.4\n",
      "markdown-it-py                   0.6.2\n",
      "MarkupSafe                       1.1.1\n",
      "mdit-py-plugins                  0.2.6\n",
      "mistune                          0.8.4\n",
      "mock                             3.0.5\n",
      "nbclient                         0.5.3\n",
      "nbconvert                        6.0.7\n",
      "nbformat                         5.1.3\n",
      "nest-asyncio                     1.5.1\n",
      "nltk                             3.4.5\n",
      "notebook                         6.2.0\n",
      "numpy                            1.19.4\n",
      "nvidia-dali-cuda110              1.0.0\n",
      "nvidia-dali-tf-plugin-cuda110    1.0.0\n",
      "nvidia-tensorboard-plugin-dlprof 1.2.0\n",
      "nvtx-plugins                     0.1.8\n",
      "oauthlib                         3.1.0\n",
      "opt-einsum                       3.3.0\n",
      "packaging                        20.9\n",
      "pandocfilters                    1.4.3\n",
      "parso                            0.8.2\n",
      "pexpect                          4.7.0\n",
      "pickleshare                      0.7.5\n",
      "pip                              21.1\n",
      "polygraphy                       0.29.0\n",
      "portpicker                       1.3.1\n",
      "prometheus-client                0.10.1\n",
      "promise                          2.3\n",
      "prompt-toolkit                   3.0.18\n",
      "protobuf                         3.15.8\n",
      "psutil                           5.7.0\n",
      "ptyprocess                       0.7.0\n",
      "pyasn1                           0.4.8\n",
      "pyasn1-modules                   0.2.8\n",
      "pycparser                        2.20\n",
      "Pygments                         2.8.1\n",
      "pyparsing                        2.4.7\n",
      "pyrsistent                       0.17.3\n",
      "python-dateutil                  2.8.1\n",
      "PyYAML                           5.4.1\n",
      "pyzmq                            22.0.3\n",
      "requests                         2.25.1\n",
      "requests-oauthlib                1.3.0\n",
      "rsa                              4.7.2\n",
      "scipy                            1.4.1\n",
      "Send2Trash                       1.5.0\n",
      "setuptools                       56.0.0\n",
      "six                              1.15.0\n",
      "tensorboard                      2.4.1\n",
      "tensorboard-plugin-wit           1.8.0\n",
      "tensorflow                       2.4.0+nv\n",
      "tensorflow-addons                0.11.2\n",
      "tensorflow-datasets              3.2.1\n",
      "tensorflow-estimator             2.4.0\n",
      "tensorflow-metadata              0.30.0\n",
      "tensorrt                         7.2.3.4\n",
      "termcolor                        1.1.0\n",
      "terminado                        0.9.4\n",
      "testpath                         0.4.4\n",
      "toml                             0.10.2\n",
      "tornado                          6.1\n",
      "tqdm                             4.60.0\n",
      "traitlets                        5.0.5\n",
      "typeguard                        2.12.0\n",
      "typing-extensions                3.7.4.3\n",
      "uff                              0.6.9\n",
      "urllib3                          1.26.4\n",
      "wcwidth                          0.2.5\n",
      "webencodings                     0.5.1\n",
      "Werkzeug                         1.0.1\n",
      "wheel                            0.36.2\n",
      "wrapt                            1.12.1\n",
      "\u001b[33mWARNING: You are using pip version 21.1; however, version 23.1 is available.\n",
      "You should consider upgrading via the '/usr/bin/python -m pip install --upgrade pip' command.\u001b[0m\n"
     ]
    }
   ],
   "source": [
    "!pip list"
   ]
  },
  {
   "cell_type": "code",
   "execution_count": 5,
   "id": "0e134685",
   "metadata": {},
   "outputs": [
    {
     "data": {
      "text/plain": [
       "[PhysicalDevice(name='/physical_device:CPU:0', device_type='CPU'),\n",
       " PhysicalDevice(name='/physical_device:GPU:0', device_type='GPU'),\n",
       " PhysicalDevice(name='/physical_device:GPU:1', device_type='GPU'),\n",
       " PhysicalDevice(name='/physical_device:GPU:2', device_type='GPU'),\n",
       " PhysicalDevice(name='/physical_device:GPU:3', device_type='GPU')]"
      ]
     },
     "execution_count": 5,
     "metadata": {},
     "output_type": "execute_result"
    }
   ],
   "source": [
    "tf.config.list_physical_devices()"
   ]
  }
 ],
 "metadata": {
  "kernelspec": {
   "display_name": "Python 3",
   "language": "python",
   "name": "python3"
  },
  "language_info": {
   "codemirror_mode": {
    "name": "ipython",
    "version": 3
   },
   "file_extension": ".py",
   "mimetype": "text/x-python",
   "name": "python",
   "nbconvert_exporter": "python",
   "pygments_lexer": "ipython3",
   "version": "3.8.5"
  }
 },
 "nbformat": 4,
 "nbformat_minor": 5
}
